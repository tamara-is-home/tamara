{
 "cells": [
  {
   "cell_type": "markdown",
   "metadata": {
    "colab_type": "text",
    "id": "KOP7kgV5PSl2"
   },
   "source": [
    "# Python and algorithms"
   ]
  },
  {
   "cell_type": "markdown",
   "metadata": {
    "colab_type": "text",
    "id": "0R6uyhNyjPMc"
   },
   "source": [
    "##### Сomplete this part of test without using any libs (your code must not contain keyword 'import')"
   ]
  },
  {
   "cell_type": "markdown",
   "metadata": {
    "colab_type": "text",
    "id": "GC_iufBgjPMd"
   },
   "source": [
    "#### 1. Implement function str_to_dict(some_str) which returnes dictionary, where keys are string characters, and values are their quantity in the string:\n",
    "\n",
    "<div style=\"text-align: right\">1 point</div>"
   ]
  },
  {
   "cell_type": "code",
   "execution_count": 1,
   "metadata": {
    "colab": {},
    "colab_type": "code",
    "id": "DDou3xupjPMe"
   },
   "outputs": [],
   "source": [
    "def str_to_dict(some_str):  \n",
    "    dict = {}\n",
    "    for i in some_str:\n",
    "        dict[i]=some_str.count(i)\n",
    "    return dict"
   ]
  },
  {
   "cell_type": "code",
   "execution_count": 2,
   "metadata": {
    "colab": {},
    "colab_type": "code",
    "id": "FPjc0Ckxsdbl"
   },
   "outputs": [
    {
     "name": "stdout",
     "output_type": "stream",
     "text": [
      "Str to dict: {'d': 1, 'a': 2, 't': 3, 'r': 2, 'o': 2, '_': 1, 'u': 1, 'n': 1, 'i': 2, 'v': 1, 'e': 1, 's': 1, 'y': 1}\n"
     ]
    }
   ],
   "source": [
    "print('Str to dict:', str_to_dict('dataroot_university'))"
   ]
  },
  {
   "cell_type": "markdown",
   "metadata": {
    "colab_type": "text",
    "id": "nurux2Btsdbn"
   },
   "source": [
    "Expected Output: \n",
    "<table>\n",
    "  <tr>\n",
    "    <td>Str to dict:</td>\n",
    "    <td> {'d': 1, 'a': 2, 't': 3, 'r': 2, 'o': 2, '_': 1, 'u': 1, 'n': 1, 'i': 2, 'v': 1, 'e': 1, 's': 1, 'y': 1} </td> \n",
    "  </tr>"
   ]
  },
  {
   "cell_type": "markdown",
   "metadata": {
    "colab_type": "text",
    "id": "ELtxJQQLjPMi"
   },
   "source": [
    "#### 2. Implement function sec_smallest(numbers) which returns second smallest item in the list, without using the built-in sorting methods (your code mustn't contain such words as 'sort', 'sorted'):\n",
    "\n",
    "<div style=\"text-align: right\">1 point\n",
    "  "
   ]
  },
  {
   "cell_type": "code",
   "execution_count": 27,
   "metadata": {
    "colab": {},
    "colab_type": "code",
    "id": "yJVJiK9jjPMj"
   },
   "outputs": [],
   "source": [
    "def sec_smallest(numbers):\n",
    "    no_dup = list(dict.fromkeys(numbers))\n",
    "    for i in no_dup:\n",
    "        if i == min(no_dup):\n",
    "            no_dup.remove(i)\n",
    "    return min(no_dup)\n",
    "    "
   ]
  },
  {
   "cell_type": "code",
   "execution_count": 29,
   "metadata": {
    "colab": {},
    "colab_type": "code",
    "id": "pg4ry_8Csdbq"
   },
   "outputs": [
    {
     "name": "stdout",
     "output_type": "stream",
     "text": [
      "Sec_smallest: -8\n"
     ]
    }
   ],
   "source": [
    "print('Sec_smallest:', sec_smallest([1, 2, -8, -8, -2, 0,-9,-9,-9]))"
   ]
  },
  {
   "cell_type": "markdown",
   "metadata": {
    "colab_type": "text",
    "id": "qVlYH9axsdbs"
   },
   "source": [
    "Expected Output: \n",
    "<table>\n",
    "  <tr>\n",
    "    <td>Sec_smallest:</td>\n",
    "    <td> -2 </td> \n",
    "  </tr>"
   ]
  },
  {
   "cell_type": "markdown",
   "metadata": {
    "colab_type": "text",
    "id": "tzgLZ6VijPMo"
   },
   "source": [
    "#### 3. Implement function prime_nums(n) that returns list of numbers which  are simple and < n:\n",
    "\n",
    "<div style=\"text-align: right\">1 point</div>"
   ]
  },
  {
   "cell_type": "code",
   "execution_count": 58,
   "metadata": {
    "colab": {},
    "colab_type": "code",
    "id": "jvVD9N32jPMp"
   },
   "outputs": [],
   "source": [
    "def prime_nums(n):\n",
    "    num=[]\n",
    "    for i in range (2,n):\n",
    "        for j in range (2,i):\n",
    "            if i%j==0:\n",
    "                break\n",
    "        else: \n",
    "            num.append(i)\n",
    "    return num"
   ]
  },
  {
   "cell_type": "code",
   "execution_count": 59,
   "metadata": {
    "colab": {},
    "colab_type": "code",
    "id": "Zf9DMkN9sdbw"
   },
   "outputs": [
    {
     "name": "stdout",
     "output_type": "stream",
     "text": [
      "Prime numbers: [2, 3, 5, 7, 11, 13, 17, 19, 23, 29]\n"
     ]
    }
   ],
   "source": [
    "print('Prime numbers:', prime_nums(30))"
   ]
  },
  {
   "cell_type": "markdown",
   "metadata": {
    "colab_type": "text",
    "id": "pYutFqaAsdbz"
   },
   "source": [
    "Expected Output:\n",
    "<table>\n",
    "  <tr>\n",
    "    <td>Prime numbers:</td>\n",
    "    <td>[2, 3, 5, 7, 11, 13, 17, 19, 23, 29]</td>\n",
    "  </tr>"
   ]
  },
  {
   "cell_type": "markdown",
   "metadata": {
    "colab_type": "text",
    "id": "BZYlq4RtzTCJ"
   },
   "source": [
    "**4. Implement function max_sum_index(tuples), which returnes index of tuple in the list with maximum sum of elements:**\n",
    "\n",
    "<div style=\"text-align: right\">1 point</div>"
   ]
  },
  {
   "cell_type": "code",
   "execution_count": 77,
   "metadata": {
    "colab": {},
    "colab_type": "code",
    "id": "nSoHCzrZzTCK"
   },
   "outputs": [],
   "source": [
    "def max_sum_index(tuples):  \n",
    "    lt = [x+y for x,y in tuples]\n",
    "    i =lt.index(max(lt))\n",
    "    return i"
   ]
  },
  {
   "cell_type": "code",
   "execution_count": 79,
   "metadata": {
    "colab": {},
    "colab_type": "code",
    "id": "kDgUQzSjzTCM"
   },
   "outputs": [
    {
     "name": "stdout",
     "output_type": "stream",
     "text": [
      "3\n"
     ]
    }
   ],
   "source": [
    "print(max_sum_index([(10, 20), (40, 32), (30, 25),(90,10)]))"
   ]
  },
  {
   "cell_type": "markdown",
   "metadata": {
    "colab_type": "text",
    "id": "RFxkqxeAzTCO"
   },
   "source": [
    "Expected Output: \n",
    "<table>\n",
    "  <tr>\n",
    "    <td>Index:</td>\n",
    "    <td> 1 </td> \n",
    "  </tr>"
   ]
  },
  {
   "cell_type": "markdown",
   "metadata": {
    "colab_type": "text",
    "id": "dgWLVbybzTCO"
   },
   "source": [
    "**5. Implement function gcd(x, y), which returns the greatest common divisor of n and m.**\n",
    "<div style=\"text-align: right\">1 point</div>"
   ]
  },
  {
   "cell_type": "code",
   "execution_count": 4,
   "metadata": {
    "colab": {},
    "colab_type": "code",
    "id": "NivXXE8ZzTCO"
   },
   "outputs": [],
   "source": [
    "def gcd(x, y):   \n",
    "    while y != 0:\n",
    "        (x,y)=(y,x%y)\n",
    "        print (x,y)    \n",
    "    return x"
   ]
  },
  {
   "cell_type": "code",
   "execution_count": 5,
   "metadata": {
    "colab": {},
    "colab_type": "code",
    "id": "4foTg3J2zTCQ"
   },
   "outputs": [
    {
     "name": "stdout",
     "output_type": "stream",
     "text": [
      "160 0\n",
      "160\n"
     ]
    }
   ],
   "source": [
    "print(gcd(220, 160))"
   ]
  },
  {
   "cell_type": "markdown",
   "metadata": {
    "colab_type": "text",
    "id": "Sqnrn37NzTCU"
   },
   "source": [
    "Expected Output: \n",
    "<table>\n",
    "  <tr>\n",
    "    <td>GCD:</td>\n",
    "    <td> 20 </td> \n",
    "  </tr>"
   ]
  },
  {
   "cell_type": "markdown",
   "metadata": {
    "colab_type": "text",
    "id": "7taKAqDEzTCU"
   },
   "source": [
    "#### 6. Implement recursive sum of the list:\n",
    "<div style=\"text-align: right\">1 point</div>"
   ]
  },
  {
   "cell_type": "code",
   "execution_count": 122,
   "metadata": {
    "colab": {},
    "colab_type": "code",
    "id": "OZ88SyEPzTCV"
   },
   "outputs": [],
   "source": [
    "def recursive_list_sum(data_list):\n",
    "    sum = 0\n",
    "    for i in data_list:\n",
    "        if type(i)==int:\n",
    "            sum+=i\n",
    "        else:\n",
    "            sum+=recursive_list_sum(i)\n",
    "    return sum"
   ]
  },
  {
   "cell_type": "code",
   "execution_count": 124,
   "metadata": {
    "colab": {},
    "colab_type": "code",
    "id": "xBqGJR2MzTCW"
   },
   "outputs": [
    {
     "name": "stdout",
     "output_type": "stream",
     "text": [
      "The sum of a list is  68\n"
     ]
    }
   ],
   "source": [
    "print('The sum of a list is ', recursive_list_sum([1, 2, [3, 4,5],8, [5, 6], [7, 8, 9, [10]]]))"
   ]
  },
  {
   "cell_type": "markdown",
   "metadata": {
    "colab_type": "text",
    "id": "-B7d97oszTCY"
   },
   "source": [
    "Expected Output:\n",
    "<table>\n",
    "  <tr>\n",
    "    <td>The sum of a list is 55</td> \n",
    "  </tr>"
   ]
  },
  {
   "cell_type": "markdown",
   "metadata": {
    "colab_type": "text",
    "id": "IwBGvz-UzTCZ"
   },
   "source": [
    "#### 7. Implement decorator which returns function signature and it's return value:\n",
    "<div style=\"text-align: right\">1 point</div>"
   ]
  },
  {
   "cell_type": "code",
   "execution_count": 3,
   "metadata": {
    "colab": {},
    "colab_type": "code",
    "id": "VqlkRz0szTCZ"
   },
   "outputs": [],
   "source": [
    "def debug(func):\n",
    "    def wrap(a,b):\n",
    "        z = func(a,b)\n",
    "        print (f\"{func.__name__}{a,b} was called and returned {z}\")\n",
    "    return wrap"
   ]
  },
  {
   "cell_type": "code",
   "execution_count": 4,
   "metadata": {
    "colab": {},
    "colab_type": "code",
    "id": "rCRTAmeizTCb"
   },
   "outputs": [
    {
     "name": "stdout",
     "output_type": "stream",
     "text": [
      "add(3, 4) was called and returned 7\n"
     ]
    }
   ],
   "source": [
    "@debug\n",
    "def add(a, b):\n",
    "    return a + b\n",
    "\n",
    "add(3, 4)"
   ]
  },
  {
   "cell_type": "markdown",
   "metadata": {
    "colab_type": "text",
    "id": "dagwtSWmzTCd"
   },
   "source": [
    "Expected Output:\n",
    "<table>\n",
    "  <tr>\n",
    "    <td>add(3, 4) was called and returned 7</td>\n",
    "  </tr>"
   ]
  },
  {
   "cell_type": "markdown",
   "metadata": {
    "colab_type": "text",
    "id": "p96mEq8vjPMr"
   },
   "source": [
    "#### 8. Implement class Conv, that contains method to_roman(self, n), which converts decimal numbers to Roman numerals:\n",
    "\n",
    "<div style=\"text-align: right\">2 points</div>"
   ]
  },
  {
   "cell_type": "code",
   "execution_count": 6,
   "metadata": {
    "colab": {},
    "colab_type": "code",
    "id": "weYiaNWojPMs"
   },
   "outputs": [],
   "source": [
    "class Conv:\n",
    "    def __init__(self):\n",
    "        self.val = [\n",
    "            1000, 900, 500, 400,\n",
    "            100, 90, 50, 40,\n",
    "            10, 9, 5, 4, 1\n",
    "        ]\n",
    "\n",
    "        self.syb = [\n",
    "            'M', 'CM', 'D', 'CD',\n",
    "            'C', 'XC', 'L', 'XL',\n",
    "            'X', 'IX', 'V', 'IV',\n",
    "            'I'\n",
    "        ]\n",
    "        \n",
    "    def to_roman(self, num):\n",
    "        dic = dict(zip(self.val,self.syb)) \n",
    "        lst=[] #list of decimal split\n",
    "        lsy=[] #list of ready-to-convert split\n",
    "        num1=num\n",
    "        while num1!=0:\n",
    "            num1=num1%(10**(len(str(num1))-1))\n",
    "            lst.append(num - num1)\n",
    "            num=num1\n",
    "        for i in lst:\n",
    "            if i%1000==0:\n",
    "                n=i//1000\n",
    "                for z in range(0,n):\n",
    "                    lsy.append(1000)\n",
    "            elif i%100==0 and i not in dic.keys():\n",
    "                if i<500:\n",
    "                    n=i//100\n",
    "                    for z in range(0,n):\n",
    "                        lsy.append(100)\n",
    "                else:\n",
    "                    lsy.append(500)\n",
    "                    n=(i-500)//100\n",
    "                    for z in range(0,n):\n",
    "                        lsy.append(100)\n",
    "            elif i%10==0 and i not in dic.keys():\n",
    "                if i<50:\n",
    "                    n=i//10\n",
    "                    for z in range(0,n):\n",
    "                        lsy.append(10)\n",
    "                else:\n",
    "                    lsy.append(50)\n",
    "                    n=(i-50)//10\n",
    "                    for z in range(0,n):\n",
    "                        lsy.append(10)\n",
    "            elif i<10 and i not in dic.keys():\n",
    "                if i < 5:\n",
    "                    n=i//1\n",
    "                    for z in range(0,n):\n",
    "                        lsy.append(1)\n",
    "                else:\n",
    "                    lsy.append(5)\n",
    "                    n=(i-5)//1\n",
    "                    for z in range(0,n):\n",
    "                        lsy.append(1)\n",
    "            else:\n",
    "                lsy.append(i)\n",
    "        \n",
    "        lsy.sort(reverse=True)\n",
    "        result=''\n",
    "        for i in lsy:\n",
    "            result +=dic[i] # final-ochka\n",
    "        print(lst)\n",
    "        print(lsy)\n",
    "        print(result)\n",
    "        return result\n",
    "        "
   ]
  },
  {
   "cell_type": "code",
   "execution_count": 7,
   "metadata": {
    "colab": {},
    "colab_type": "code",
    "id": "NdffBhZesdb6"
   },
   "outputs": [
    {
     "name": "stdout",
     "output_type": "stream",
     "text": [
      "[700, 30, 8]\n",
      "[500, 100, 100, 10, 10, 10, 5, 1, 1, 1]\n",
      "DCCXXXVIII\n",
      "Converted: DCCXXXVIII\n"
     ]
    }
   ],
   "source": [
    "print('Converted:', Conv().to_roman(738))\n"
   ]
  },
  {
   "cell_type": "markdown",
   "metadata": {
    "colab_type": "text",
    "id": "lF6Acd9gsdb8"
   },
   "source": [
    "Expected Output:\n",
    "<table>\n",
    "  <tr>\n",
    "    <td>Converted:</td>\n",
    "    <td>XLIV</td> \n",
    "  </tr>"
   ]
  },
  {
   "cell_type": "markdown",
   "metadata": {
    "colab_type": "text",
    "id": "kphmMZ7JjPMv"
   },
   "source": [
    "#### 9. Implement class CombinationsList, that contains method get_combinations(self, my_list), which returns all combinations of elements of given list, including empty element and in order, law of which can be discrovered from the expected output:\n",
    "<div style=\"text-align: right\">3 points</div>"
   ]
  },
  {
   "cell_type": "code",
   "execution_count": null,
   "metadata": {
    "colab": {},
    "colab_type": "code",
    "id": "YRLNrVppjPMw"
   },
   "outputs": [],
   "source": [
    "class CombinationsList:\n",
    "    @staticmethod\n",
    "    def get_combinations(my_list):\n",
    "        "
   ]
  },
  {
   "cell_type": "code",
   "execution_count": null,
   "metadata": {
    "colab": {},
    "colab_type": "code",
    "id": "8IVUwFllsdb_"
   },
   "outputs": [],
   "source": [
    "print('Combinations:', CombinationsList().get_combinations([1, 'a', 2]))"
   ]
  },
  {
   "cell_type": "markdown",
   "metadata": {
    "colab_type": "text",
    "id": "Etp9QRL-sdcC"
   },
   "source": [
    "Expected Output:\n",
    "<table>\n",
    "  <tr>\n",
    "    <td>Combinations:</td>\n",
    "    <td>[[], [1], ['a'], [2], [1, 'a'], [1, 2], ['a', 2], [1, 'a', 2]]</td> \n",
    "  </tr>"
   ]
  },
  {
   "cell_type": "markdown",
   "metadata": {
    "colab_type": "text",
    "id": "DMAxsP5ezTCn"
   },
   "source": [
    "#### 10. Create base class <code>Rocket</code> and it's subclass <code>Shuttle</code>. The parent class contains methods <code>getMission()</code>, <code>addMission()</code> and <code>getName()</code>. The subclass <code>Shuttle</code> contains method <code>getDescription()</code>. Notice that we have not defined <code>getName()</code>, <code>getMission()</code>, <code>addMission()</code> in the <code>Shuttle</code> class but we are still able to access them, because the class <code>Shuttle</code> inherits them from the <code>Rocket</code> class. Use <code>super()</code> method to have ability to call those methods of the base class.\n",
    "<div style=\"text-align: right\">3 points</div>"
   ]
  },
  {
   "cell_type": "code",
   "execution_count": 20,
   "metadata": {
    "colab": {},
    "colab_type": "code",
    "id": "0n3UwConzTCn"
   },
   "outputs": [],
   "source": [
    "class Rocket:\n",
    "\n",
    "    def __init__(self, name, mission):\n",
    "        \"\"\"\n",
    "        :param name: str\n",
    "        :param mission: str or list\n",
    "        \"\"\"\n",
    "        # attributes are private to class Rocket\n",
    "        self.__name = name      \n",
    "        self.__mission = mission\n",
    "\n",
    "    def getMission(self): \n",
    "        \"\"\"\n",
    "        : return str or list\n",
    "        \"\"\"\n",
    "        misson_lst = [self.mission]\n",
    "        return str(mission_lst)\n",
    "\n",
    "    def addMission(self, mission): \n",
    "        # procedure method which adds a new mission. There can be one (str) or multiple (list) existing missions\n",
    "        \"\"\"\n",
    "        : param mission: str\n",
    "        \"\"\"\n",
    "        mission_lst.append(mission)\n",
    "        return mission_lst\n",
    "\n",
    "    def getName(self):\n",
    "        \"\"\"\n",
    "        : return str\n",
    "        \"\"\"\n",
    "        return self.name\n",
    "\n",
    "    \n",
    "class Shuttle(Rocket):\n",
    "\n",
    "    def __init__(self, name, mission, model): \n",
    "        super().__init__(name,mission)\n",
    "        \"\"\"\n",
    "        :param name: str\n",
    "        :param mission: str or list\n",
    "        : param model: str\n",
    "        \"\"\"\n",
    "        self.__model = model\n",
    "        self.__mission=mission\n",
    "        self.__name=name\n",
    "\n",
    "    def getDescription(self):\n",
    "        super().getName(self.name)\n",
    "        super().getMission(self.mission)\n",
    "        return 'Name: {0}\\nModel: {1}\\nMissions: {2}'.format(self.getName(), self.__model, str(self.getMission()))"
   ]
  },
  {
   "cell_type": "code",
   "execution_count": 21,
   "metadata": {
    "colab": {},
    "colab_type": "code",
    "id": "H7qmbnhgzTCo"
   },
   "outputs": [
    {
     "ename": "AttributeError",
     "evalue": "'Shuttle' object has no attribute 'name'",
     "output_type": "error",
     "traceback": [
      "\u001b[1;31m---------------------------------------------------------------------------\u001b[0m",
      "\u001b[1;31mAttributeError\u001b[0m                            Traceback (most recent call last)",
      "\u001b[1;32m<ipython-input-21-beff9faba4db>\u001b[0m in \u001b[0;36m<module>\u001b[1;34m\u001b[0m\n\u001b[0;32m      1\u001b[0m \u001b[0mdragon\u001b[0m \u001b[1;33m=\u001b[0m \u001b[0mShuttle\u001b[0m\u001b[1;33m(\u001b[0m\u001b[1;34m\"Crew Dragon\"\u001b[0m\u001b[1;33m,\u001b[0m \u001b[1;34m\"Dragon 2 pad abort test\"\u001b[0m\u001b[1;33m,\u001b[0m \u001b[1;34m\"V2\"\u001b[0m\u001b[1;33m)\u001b[0m\u001b[1;33m\u001b[0m\u001b[1;33m\u001b[0m\u001b[0m\n\u001b[1;32m----> 2\u001b[1;33m \u001b[0mprint\u001b[0m\u001b[1;33m(\u001b[0m\u001b[0mdragon\u001b[0m\u001b[1;33m.\u001b[0m\u001b[0mgetDescription\u001b[0m\u001b[1;33m(\u001b[0m\u001b[1;33m)\u001b[0m\u001b[1;33m,\u001b[0m \u001b[1;34m'\\n'\u001b[0m\u001b[1;33m)\u001b[0m\u001b[1;33m\u001b[0m\u001b[1;33m\u001b[0m\u001b[0m\n\u001b[0m\u001b[0;32m      3\u001b[0m \u001b[0mdragon\u001b[0m\u001b[1;33m.\u001b[0m\u001b[0maddMission\u001b[0m\u001b[1;33m(\u001b[0m\u001b[1;34m'Dragon 2 in-flight abort test'\u001b[0m\u001b[1;33m)\u001b[0m\u001b[1;33m\u001b[0m\u001b[1;33m\u001b[0m\u001b[0m\n\u001b[0;32m      4\u001b[0m \u001b[0mprint\u001b[0m\u001b[1;33m(\u001b[0m\u001b[0mdragon\u001b[0m\u001b[1;33m.\u001b[0m\u001b[0mgetDescription\u001b[0m\u001b[1;33m(\u001b[0m\u001b[1;33m)\u001b[0m\u001b[1;33m)\u001b[0m\u001b[1;33m\u001b[0m\u001b[1;33m\u001b[0m\u001b[0m\n",
      "\u001b[1;32m<ipython-input-20-70807ed33861>\u001b[0m in \u001b[0;36mgetDescription\u001b[1;34m(self)\u001b[0m\n\u001b[0;32m     46\u001b[0m \u001b[1;33m\u001b[0m\u001b[0m\n\u001b[0;32m     47\u001b[0m     \u001b[1;32mdef\u001b[0m \u001b[0mgetDescription\u001b[0m\u001b[1;33m(\u001b[0m\u001b[0mself\u001b[0m\u001b[1;33m)\u001b[0m\u001b[1;33m:\u001b[0m\u001b[1;33m\u001b[0m\u001b[1;33m\u001b[0m\u001b[0m\n\u001b[1;32m---> 48\u001b[1;33m         \u001b[0msuper\u001b[0m\u001b[1;33m(\u001b[0m\u001b[1;33m)\u001b[0m\u001b[1;33m.\u001b[0m\u001b[0mgetName\u001b[0m\u001b[1;33m(\u001b[0m\u001b[0mself\u001b[0m\u001b[1;33m.\u001b[0m\u001b[0mname\u001b[0m\u001b[1;33m)\u001b[0m\u001b[1;33m\u001b[0m\u001b[1;33m\u001b[0m\u001b[0m\n\u001b[0m\u001b[0;32m     49\u001b[0m         \u001b[0msuper\u001b[0m\u001b[1;33m(\u001b[0m\u001b[1;33m)\u001b[0m\u001b[1;33m.\u001b[0m\u001b[0mgetMission\u001b[0m\u001b[1;33m(\u001b[0m\u001b[0mself\u001b[0m\u001b[1;33m.\u001b[0m\u001b[0mmission\u001b[0m\u001b[1;33m)\u001b[0m\u001b[1;33m\u001b[0m\u001b[1;33m\u001b[0m\u001b[0m\n\u001b[0;32m     50\u001b[0m         \u001b[1;32mreturn\u001b[0m \u001b[1;34m'Name: {0}\\nModel: {1}\\nMissions: {2}'\u001b[0m\u001b[1;33m.\u001b[0m\u001b[0mformat\u001b[0m\u001b[1;33m(\u001b[0m\u001b[0mself\u001b[0m\u001b[1;33m.\u001b[0m\u001b[0mgetName\u001b[0m\u001b[1;33m(\u001b[0m\u001b[1;33m)\u001b[0m\u001b[1;33m,\u001b[0m \u001b[0mself\u001b[0m\u001b[1;33m.\u001b[0m\u001b[0m__model\u001b[0m\u001b[1;33m,\u001b[0m \u001b[0mstr\u001b[0m\u001b[1;33m(\u001b[0m\u001b[0mself\u001b[0m\u001b[1;33m.\u001b[0m\u001b[0mgetMission\u001b[0m\u001b[1;33m(\u001b[0m\u001b[1;33m)\u001b[0m\u001b[1;33m)\u001b[0m\u001b[1;33m)\u001b[0m\u001b[1;33m\u001b[0m\u001b[1;33m\u001b[0m\u001b[0m\n",
      "\u001b[1;31mAttributeError\u001b[0m: 'Shuttle' object has no attribute 'name'"
     ]
    }
   ],
   "source": [
    "dragon = Shuttle(\"Crew Dragon\", \"Dragon 2 pad abort test\", \"V2\")\n",
    "print(dragon.getDescription(), '\\n')\n",
    "dragon.addMission('Dragon 2 in-flight abort test')\n",
    "print(dragon.getDescription())"
   ]
  },
  {
   "cell_type": "markdown",
   "metadata": {
    "colab_type": "text",
    "id": "CbRcyQwXzTCq"
   },
   "source": [
    "Expected Output: \n",
    "\n",
    "                Name: Crew Dragon\n",
    "                Model: V2\n",
    "                Missions: Dragon 2 pad abort test\n",
    "                \n",
    "                Name: Crew Dragon\n",
    "                Model: V2\n",
    "                Missions: ['Dragon 2 pad abort test', 'Dragon 2 in-flight abort test']\n",
    "\n"
   ]
  }
 ],
 "metadata": {
  "colab": {
   "collapsed_sections": [],
   "name": "Python Lab.ipynb",
   "provenance": []
  },
  "kernelspec": {
   "display_name": "Python 3",
   "language": "python",
   "name": "python3"
  },
  "language_info": {
   "codemirror_mode": {
    "name": "ipython",
    "version": 3
   },
   "file_extension": ".py",
   "mimetype": "text/x-python",
   "name": "python",
   "nbconvert_exporter": "python",
   "pygments_lexer": "ipython3",
   "version": "3.8.3"
  }
 },
 "nbformat": 4,
 "nbformat_minor": 1
}
